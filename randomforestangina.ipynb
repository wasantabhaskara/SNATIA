{
  "nbformat": 4,
  "nbformat_minor": 0,
  "metadata": {
    "colab": {
      "name": "randomforestangina.ipynb",
      "provenance": []
    },
    "kernelspec": {
      "name": "python3",
      "display_name": "Python 3"
    },
    "language_info": {
      "name": "python"
    }
  },
  "cells": [
    {
      "cell_type": "code",
      "metadata": {
        "id": "gIplju6E2HfL"
      },
      "source": [
        "import os, random\n",
        "\n",
        "import numpy as np\n",
        "from scipy.stats import chi2_contingency\n",
        "import pandas as pd\n",
        "\n",
        "import seaborn as sns\n",
        "import matplotlib.pyplot as plt\n",
        "%matplotlib inline\n",
        "\n",
        "import tensorflow as tf\n",
        "from tensorflow import keras\n",
        "\n",
        "## Set fixed ranom seeds to get reproducible results\n",
        "seed_val = 0\n",
        "os.environ['PYTHONHASHSEED'] = str(seed_val)\n",
        "random.seed(seed_val)\n",
        "np.random.seed(seed_val)\n",
        "tf.random.set_seed(seed_val)"
      ],
      "execution_count": null,
      "outputs": []
    },
    {
      "cell_type": "code",
      "metadata": {
        "colab": {
          "resources": {
            "http://localhost:8080/nbextensions/google.colab/files.js": {
              "data": "Ly8gQ29weXJpZ2h0IDIwMTcgR29vZ2xlIExMQwovLwovLyBMaWNlbnNlZCB1bmRlciB0aGUgQXBhY2hlIExpY2Vuc2UsIFZlcnNpb24gMi4wICh0aGUgIkxpY2Vuc2UiKTsKLy8geW91IG1heSBub3QgdXNlIHRoaXMgZmlsZSBleGNlcHQgaW4gY29tcGxpYW5jZSB3aXRoIHRoZSBMaWNlbnNlLgovLyBZb3UgbWF5IG9idGFpbiBhIGNvcHkgb2YgdGhlIExpY2Vuc2UgYXQKLy8KLy8gICAgICBodHRwOi8vd3d3LmFwYWNoZS5vcmcvbGljZW5zZXMvTElDRU5TRS0yLjAKLy8KLy8gVW5sZXNzIHJlcXVpcmVkIGJ5IGFwcGxpY2FibGUgbGF3IG9yIGFncmVlZCB0byBpbiB3cml0aW5nLCBzb2Z0d2FyZQovLyBkaXN0cmlidXRlZCB1bmRlciB0aGUgTGljZW5zZSBpcyBkaXN0cmlidXRlZCBvbiBhbiAiQVMgSVMiIEJBU0lTLAovLyBXSVRIT1VUIFdBUlJBTlRJRVMgT1IgQ09ORElUSU9OUyBPRiBBTlkgS0lORCwgZWl0aGVyIGV4cHJlc3Mgb3IgaW1wbGllZC4KLy8gU2VlIHRoZSBMaWNlbnNlIGZvciB0aGUgc3BlY2lmaWMgbGFuZ3VhZ2UgZ292ZXJuaW5nIHBlcm1pc3Npb25zIGFuZAovLyBsaW1pdGF0aW9ucyB1bmRlciB0aGUgTGljZW5zZS4KCi8qKgogKiBAZmlsZW92ZXJ2aWV3IEhlbHBlcnMgZm9yIGdvb2dsZS5jb2xhYiBQeXRob24gbW9kdWxlLgogKi8KKGZ1bmN0aW9uKHNjb3BlKSB7CmZ1bmN0aW9uIHNwYW4odGV4dCwgc3R5bGVBdHRyaWJ1dGVzID0ge30pIHsKICBjb25zdCBlbGVtZW50ID0gZG9jdW1lbnQuY3JlYXRlRWxlbWVudCgnc3BhbicpOwogIGVsZW1lbnQudGV4dENvbnRlbnQgPSB0ZXh0OwogIGZvciAoY29uc3Qga2V5IG9mIE9iamVjdC5rZXlzKHN0eWxlQXR0cmlidXRlcykpIHsKICAgIGVsZW1lbnQuc3R5bGVba2V5XSA9IHN0eWxlQXR0cmlidXRlc1trZXldOwogIH0KICByZXR1cm4gZWxlbWVudDsKfQoKLy8gTWF4IG51bWJlciBvZiBieXRlcyB3aGljaCB3aWxsIGJlIHVwbG9hZGVkIGF0IGEgdGltZS4KY29uc3QgTUFYX1BBWUxPQURfU0laRSA9IDEwMCAqIDEwMjQ7CgpmdW5jdGlvbiBfdXBsb2FkRmlsZXMoaW5wdXRJZCwgb3V0cHV0SWQpIHsKICBjb25zdCBzdGVwcyA9IHVwbG9hZEZpbGVzU3RlcChpbnB1dElkLCBvdXRwdXRJZCk7CiAgY29uc3Qgb3V0cHV0RWxlbWVudCA9IGRvY3VtZW50LmdldEVsZW1lbnRCeUlkKG91dHB1dElkKTsKICAvLyBDYWNoZSBzdGVwcyBvbiB0aGUgb3V0cHV0RWxlbWVudCB0byBtYWtlIGl0IGF2YWlsYWJsZSBmb3IgdGhlIG5leHQgY2FsbAogIC8vIHRvIHVwbG9hZEZpbGVzQ29udGludWUgZnJvbSBQeXRob24uCiAgb3V0cHV0RWxlbWVudC5zdGVwcyA9IHN0ZXBzOwoKICByZXR1cm4gX3VwbG9hZEZpbGVzQ29udGludWUob3V0cHV0SWQpOwp9CgovLyBUaGlzIGlzIHJvdWdobHkgYW4gYXN5bmMgZ2VuZXJhdG9yIChub3Qgc3VwcG9ydGVkIGluIHRoZSBicm93c2VyIHlldCksCi8vIHdoZXJlIHRoZXJlIGFyZSBtdWx0aXBsZSBhc3luY2hyb25vdXMgc3RlcHMgYW5kIHRoZSBQeXRob24gc2lkZSBpcyBnb2luZwovLyB0byBwb2xsIGZvciBjb21wbGV0aW9uIG9mIGVhY2ggc3RlcC4KLy8gVGhpcyB1c2VzIGEgUHJvbWlzZSB0byBibG9jayB0aGUgcHl0aG9uIHNpZGUgb24gY29tcGxldGlvbiBvZiBlYWNoIHN0ZXAsCi8vIHRoZW4gcGFzc2VzIHRoZSByZXN1bHQgb2YgdGhlIHByZXZpb3VzIHN0ZXAgYXMgdGhlIGlucHV0IHRvIHRoZSBuZXh0IHN0ZXAuCmZ1bmN0aW9uIF91cGxvYWRGaWxlc0NvbnRpbnVlKG91dHB1dElkKSB7CiAgY29uc3Qgb3V0cHV0RWxlbWVudCA9IGRvY3VtZW50LmdldEVsZW1lbnRCeUlkKG91dHB1dElkKTsKICBjb25zdCBzdGVwcyA9IG91dHB1dEVsZW1lbnQuc3RlcHM7CgogIGNvbnN0IG5leHQgPSBzdGVwcy5uZXh0KG91dHB1dEVsZW1lbnQubGFzdFByb21pc2VWYWx1ZSk7CiAgcmV0dXJuIFByb21pc2UucmVzb2x2ZShuZXh0LnZhbHVlLnByb21pc2UpLnRoZW4oKHZhbHVlKSA9PiB7CiAgICAvLyBDYWNoZSB0aGUgbGFzdCBwcm9taXNlIHZhbHVlIHRvIG1ha2UgaXQgYXZhaWxhYmxlIHRvIHRoZSBuZXh0CiAgICAvLyBzdGVwIG9mIHRoZSBnZW5lcmF0b3IuCiAgICBvdXRwdXRFbGVtZW50Lmxhc3RQcm9taXNlVmFsdWUgPSB2YWx1ZTsKICAgIHJldHVybiBuZXh0LnZhbHVlLnJlc3BvbnNlOwogIH0pOwp9CgovKioKICogR2VuZXJhdG9yIGZ1bmN0aW9uIHdoaWNoIGlzIGNhbGxlZCBiZXR3ZWVuIGVhY2ggYXN5bmMgc3RlcCBvZiB0aGUgdXBsb2FkCiAqIHByb2Nlc3MuCiAqIEBwYXJhbSB7c3RyaW5nfSBpbnB1dElkIEVsZW1lbnQgSUQgb2YgdGhlIGlucHV0IGZpbGUgcGlja2VyIGVsZW1lbnQuCiAqIEBwYXJhbSB7c3RyaW5nfSBvdXRwdXRJZCBFbGVtZW50IElEIG9mIHRoZSBvdXRwdXQgZGlzcGxheS4KICogQHJldHVybiB7IUl0ZXJhYmxlPCFPYmplY3Q+fSBJdGVyYWJsZSBvZiBuZXh0IHN0ZXBzLgogKi8KZnVuY3Rpb24qIHVwbG9hZEZpbGVzU3RlcChpbnB1dElkLCBvdXRwdXRJZCkgewogIGNvbnN0IGlucHV0RWxlbWVudCA9IGRvY3VtZW50LmdldEVsZW1lbnRCeUlkKGlucHV0SWQpOwogIGlucHV0RWxlbWVudC5kaXNhYmxlZCA9IGZhbHNlOwoKICBjb25zdCBvdXRwdXRFbGVtZW50ID0gZG9jdW1lbnQuZ2V0RWxlbWVudEJ5SWQob3V0cHV0SWQpOwogIG91dHB1dEVsZW1lbnQuaW5uZXJIVE1MID0gJyc7CgogIGNvbnN0IHBpY2tlZFByb21pc2UgPSBuZXcgUHJvbWlzZSgocmVzb2x2ZSkgPT4gewogICAgaW5wdXRFbGVtZW50LmFkZEV2ZW50TGlzdGVuZXIoJ2NoYW5nZScsIChlKSA9PiB7CiAgICAgIHJlc29sdmUoZS50YXJnZXQuZmlsZXMpOwogICAgfSk7CiAgfSk7CgogIGNvbnN0IGNhbmNlbCA9IGRvY3VtZW50LmNyZWF0ZUVsZW1lbnQoJ2J1dHRvbicpOwogIGlucHV0RWxlbWVudC5wYXJlbnRFbGVtZW50LmFwcGVuZENoaWxkKGNhbmNlbCk7CiAgY2FuY2VsLnRleHRDb250ZW50ID0gJ0NhbmNlbCB1cGxvYWQnOwogIGNvbnN0IGNhbmNlbFByb21pc2UgPSBuZXcgUHJvbWlzZSgocmVzb2x2ZSkgPT4gewogICAgY2FuY2VsLm9uY2xpY2sgPSAoKSA9PiB7CiAgICAgIHJlc29sdmUobnVsbCk7CiAgICB9OwogIH0pOwoKICAvLyBXYWl0IGZvciB0aGUgdXNlciB0byBwaWNrIHRoZSBmaWxlcy4KICBjb25zdCBmaWxlcyA9IHlpZWxkIHsKICAgIHByb21pc2U6IFByb21pc2UucmFjZShbcGlja2VkUHJvbWlzZSwgY2FuY2VsUHJvbWlzZV0pLAogICAgcmVzcG9uc2U6IHsKICAgICAgYWN0aW9uOiAnc3RhcnRpbmcnLAogICAgfQogIH07CgogIGNhbmNlbC5yZW1vdmUoKTsKCiAgLy8gRGlzYWJsZSB0aGUgaW5wdXQgZWxlbWVudCBzaW5jZSBmdXJ0aGVyIHBpY2tzIGFyZSBub3QgYWxsb3dlZC4KICBpbnB1dEVsZW1lbnQuZGlzYWJsZWQgPSB0cnVlOwoKICBpZiAoIWZpbGVzKSB7CiAgICByZXR1cm4gewogICAgICByZXNwb25zZTogewogICAgICAgIGFjdGlvbjogJ2NvbXBsZXRlJywKICAgICAgfQogICAgfTsKICB9CgogIGZvciAoY29uc3QgZmlsZSBvZiBmaWxlcykgewogICAgY29uc3QgbGkgPSBkb2N1bWVudC5jcmVhdGVFbGVtZW50KCdsaScpOwogICAgbGkuYXBwZW5kKHNwYW4oZmlsZS5uYW1lLCB7Zm9udFdlaWdodDogJ2JvbGQnfSkpOwogICAgbGkuYXBwZW5kKHNwYW4oCiAgICAgICAgYCgke2ZpbGUudHlwZSB8fCAnbi9hJ30pIC0gJHtmaWxlLnNpemV9IGJ5dGVzLCBgICsKICAgICAgICBgbGFzdCBtb2RpZmllZDogJHsKICAgICAgICAgICAgZmlsZS5sYXN0TW9kaWZpZWREYXRlID8gZmlsZS5sYXN0TW9kaWZpZWREYXRlLnRvTG9jYWxlRGF0ZVN0cmluZygpIDoKICAgICAgICAgICAgICAgICAgICAgICAgICAgICAgICAgICAgJ24vYSd9IC0gYCkpOwogICAgY29uc3QgcGVyY2VudCA9IHNwYW4oJzAlIGRvbmUnKTsKICAgIGxpLmFwcGVuZENoaWxkKHBlcmNlbnQpOwoKICAgIG91dHB1dEVsZW1lbnQuYXBwZW5kQ2hpbGQobGkpOwoKICAgIGNvbnN0IGZpbGVEYXRhUHJvbWlzZSA9IG5ldyBQcm9taXNlKChyZXNvbHZlKSA9PiB7CiAgICAgIGNvbnN0IHJlYWRlciA9IG5ldyBGaWxlUmVhZGVyKCk7CiAgICAgIHJlYWRlci5vbmxvYWQgPSAoZSkgPT4gewogICAgICAgIHJlc29sdmUoZS50YXJnZXQucmVzdWx0KTsKICAgICAgfTsKICAgICAgcmVhZGVyLnJlYWRBc0FycmF5QnVmZmVyKGZpbGUpOwogICAgfSk7CiAgICAvLyBXYWl0IGZvciB0aGUgZGF0YSB0byBiZSByZWFkeS4KICAgIGxldCBmaWxlRGF0YSA9IHlpZWxkIHsKICAgICAgcHJvbWlzZTogZmlsZURhdGFQcm9taXNlLAogICAgICByZXNwb25zZTogewogICAgICAgIGFjdGlvbjogJ2NvbnRpbnVlJywKICAgICAgfQogICAgfTsKCiAgICAvLyBVc2UgYSBjaHVua2VkIHNlbmRpbmcgdG8gYXZvaWQgbWVzc2FnZSBzaXplIGxpbWl0cy4gU2VlIGIvNjIxMTU2NjAuCiAgICBsZXQgcG9zaXRpb24gPSAwOwogICAgZG8gewogICAgICBjb25zdCBsZW5ndGggPSBNYXRoLm1pbihmaWxlRGF0YS5ieXRlTGVuZ3RoIC0gcG9zaXRpb24sIE1BWF9QQVlMT0FEX1NJWkUpOwogICAgICBjb25zdCBjaHVuayA9IG5ldyBVaW50OEFycmF5KGZpbGVEYXRhLCBwb3NpdGlvbiwgbGVuZ3RoKTsKICAgICAgcG9zaXRpb24gKz0gbGVuZ3RoOwoKICAgICAgY29uc3QgYmFzZTY0ID0gYnRvYShTdHJpbmcuZnJvbUNoYXJDb2RlLmFwcGx5KG51bGwsIGNodW5rKSk7CiAgICAgIHlpZWxkIHsKICAgICAgICByZXNwb25zZTogewogICAgICAgICAgYWN0aW9uOiAnYXBwZW5kJywKICAgICAgICAgIGZpbGU6IGZpbGUubmFtZSwKICAgICAgICAgIGRhdGE6IGJhc2U2NCwKICAgICAgICB9LAogICAgICB9OwoKICAgICAgbGV0IHBlcmNlbnREb25lID0gZmlsZURhdGEuYnl0ZUxlbmd0aCA9PT0gMCA/CiAgICAgICAgICAxMDAgOgogICAgICAgICAgTWF0aC5yb3VuZCgocG9zaXRpb24gLyBmaWxlRGF0YS5ieXRlTGVuZ3RoKSAqIDEwMCk7CiAgICAgIHBlcmNlbnQudGV4dENvbnRlbnQgPSBgJHtwZXJjZW50RG9uZX0lIGRvbmVgOwoKICAgIH0gd2hpbGUgKHBvc2l0aW9uIDwgZmlsZURhdGEuYnl0ZUxlbmd0aCk7CiAgfQoKICAvLyBBbGwgZG9uZS4KICB5aWVsZCB7CiAgICByZXNwb25zZTogewogICAgICBhY3Rpb246ICdjb21wbGV0ZScsCiAgICB9CiAgfTsKfQoKc2NvcGUuZ29vZ2xlID0gc2NvcGUuZ29vZ2xlIHx8IHt9OwpzY29wZS5nb29nbGUuY29sYWIgPSBzY29wZS5nb29nbGUuY29sYWIgfHwge307CnNjb3BlLmdvb2dsZS5jb2xhYi5fZmlsZXMgPSB7CiAgX3VwbG9hZEZpbGVzLAogIF91cGxvYWRGaWxlc0NvbnRpbnVlLAp9Owp9KShzZWxmKTsK",
              "ok": true,
              "headers": [
                [
                  "content-type",
                  "application/javascript"
                ]
              ],
              "status": 200,
              "status_text": ""
            }
          },
          "base_uri": "https://localhost:8080/",
          "height": 73
        },
        "id": "h-fWgROh2I2t",
        "outputId": "214f1a41-cd28-4b63-be75-cfe8300b5eba"
      },
      "source": [
        "from google.colab import files\n",
        "uploaded = files.upload()"
      ],
      "execution_count": null,
      "outputs": [
        {
          "output_type": "display_data",
          "data": {
            "text/html": [
              "\n",
              "     <input type=\"file\" id=\"files-c0fa2517-7515-49b1-a884-a08d7b899bcf\" name=\"files[]\" multiple disabled\n",
              "        style=\"border:none\" />\n",
              "     <output id=\"result-c0fa2517-7515-49b1-a884-a08d7b899bcf\">\n",
              "      Upload widget is only available when the cell has been executed in the\n",
              "      current browser session. Please rerun this cell to enable.\n",
              "      </output>\n",
              "      <script src=\"/nbextensions/google.colab/files.js\"></script> "
            ],
            "text/plain": [
              "<IPython.core.display.HTML object>"
            ]
          },
          "metadata": {}
        },
        {
          "output_type": "stream",
          "name": "stdout",
          "text": [
            "Saving angina.csv to angina (3).csv\n"
          ]
        }
      ]
    },
    {
      "cell_type": "code",
      "metadata": {
        "colab": {
          "base_uri": "https://localhost:8080/"
        },
        "id": "afTf1CHo2QBW",
        "outputId": "df3a81fe-4715-4bcc-992a-642ed67d86ba"
      },
      "source": [
        "#load dataset\n",
        "df = pd.read_csv('angina.csv')\n",
        "print(df)"
      ],
      "execution_count": null,
      "outputs": [
        {
          "output_type": "stream",
          "name": "stdout",
          "text": [
            "    status  age  smoke  cig  hyper fam ang fam myo fam stroke diabetes\n",
            "0       no   37      1   15      1      no      no         no       no\n",
            "1       no   45      3    0      1      no      no         no       no\n",
            "2      yes   60      3    0      1      no     yes         no       no\n",
            "3       no   57      3    0      1      no      no         no       no\n",
            "4      yes   65      1   20      2      no     yes         no       no\n",
            "..     ...  ...    ...  ...    ...     ...     ...        ...      ...\n",
            "195     no   58      2    0      3      no      no         no       no\n",
            "196     no   57      3    0      1      no      no         no       no\n",
            "197     no   65      1   10      1      no      no         no       no\n",
            "198    yes   73      1   15      2      no     yes         no       no\n",
            "199     no   53      3    0      1      no      no         no       no\n",
            "\n",
            "[200 rows x 9 columns]\n"
          ]
        }
      ]
    },
    {
      "cell_type": "code",
      "metadata": {
        "colab": {
          "base_uri": "https://localhost:8080/"
        },
        "id": "yxTi0YbF2SCp",
        "outputId": "4eabc035-dcf5-4d3a-8bcb-5352a3cc0154"
      },
      "source": [
        "df.info()"
      ],
      "execution_count": null,
      "outputs": [
        {
          "output_type": "stream",
          "name": "stdout",
          "text": [
            "<class 'pandas.core.frame.DataFrame'>\n",
            "RangeIndex: 200 entries, 0 to 199\n",
            "Data columns (total 9 columns):\n",
            " #   Column      Non-Null Count  Dtype \n",
            "---  ------      --------------  ----- \n",
            " 0   status      200 non-null    object\n",
            " 1   age         200 non-null    int64 \n",
            " 2   smoke       200 non-null    int64 \n",
            " 3   cig         200 non-null    int64 \n",
            " 4   hyper       200 non-null    int64 \n",
            " 5   fam ang     200 non-null    object\n",
            " 6   fam myo     200 non-null    object\n",
            " 7   fam stroke  200 non-null    object\n",
            " 8   diabetes    200 non-null    object\n",
            "dtypes: int64(4), object(5)\n",
            "memory usage: 14.2+ KB\n"
          ]
        }
      ]
    },
    {
      "cell_type": "code",
      "metadata": {
        "colab": {
          "base_uri": "https://localhost:8080/",
          "height": 203
        },
        "id": "p5ANR2GC2ZIJ",
        "outputId": "3c9de373-a001-42ab-dbd5-41a250fd6f64"
      },
      "source": [
        "df.head()"
      ],
      "execution_count": null,
      "outputs": [
        {
          "output_type": "execute_result",
          "data": {
            "text/html": [
              "<div>\n",
              "<style scoped>\n",
              "    .dataframe tbody tr th:only-of-type {\n",
              "        vertical-align: middle;\n",
              "    }\n",
              "\n",
              "    .dataframe tbody tr th {\n",
              "        vertical-align: top;\n",
              "    }\n",
              "\n",
              "    .dataframe thead th {\n",
              "        text-align: right;\n",
              "    }\n",
              "</style>\n",
              "<table border=\"1\" class=\"dataframe\">\n",
              "  <thead>\n",
              "    <tr style=\"text-align: right;\">\n",
              "      <th></th>\n",
              "      <th>status</th>\n",
              "      <th>age</th>\n",
              "      <th>smoke</th>\n",
              "      <th>cig</th>\n",
              "      <th>hyper</th>\n",
              "      <th>fam ang</th>\n",
              "      <th>fam myo</th>\n",
              "      <th>fam stroke</th>\n",
              "      <th>diabetes</th>\n",
              "    </tr>\n",
              "  </thead>\n",
              "  <tbody>\n",
              "    <tr>\n",
              "      <th>0</th>\n",
              "      <td>no</td>\n",
              "      <td>37</td>\n",
              "      <td>1</td>\n",
              "      <td>15</td>\n",
              "      <td>1</td>\n",
              "      <td>no</td>\n",
              "      <td>no</td>\n",
              "      <td>no</td>\n",
              "      <td>no</td>\n",
              "    </tr>\n",
              "    <tr>\n",
              "      <th>1</th>\n",
              "      <td>no</td>\n",
              "      <td>45</td>\n",
              "      <td>3</td>\n",
              "      <td>0</td>\n",
              "      <td>1</td>\n",
              "      <td>no</td>\n",
              "      <td>no</td>\n",
              "      <td>no</td>\n",
              "      <td>no</td>\n",
              "    </tr>\n",
              "    <tr>\n",
              "      <th>2</th>\n",
              "      <td>yes</td>\n",
              "      <td>60</td>\n",
              "      <td>3</td>\n",
              "      <td>0</td>\n",
              "      <td>1</td>\n",
              "      <td>no</td>\n",
              "      <td>yes</td>\n",
              "      <td>no</td>\n",
              "      <td>no</td>\n",
              "    </tr>\n",
              "    <tr>\n",
              "      <th>3</th>\n",
              "      <td>no</td>\n",
              "      <td>57</td>\n",
              "      <td>3</td>\n",
              "      <td>0</td>\n",
              "      <td>1</td>\n",
              "      <td>no</td>\n",
              "      <td>no</td>\n",
              "      <td>no</td>\n",
              "      <td>no</td>\n",
              "    </tr>\n",
              "    <tr>\n",
              "      <th>4</th>\n",
              "      <td>yes</td>\n",
              "      <td>65</td>\n",
              "      <td>1</td>\n",
              "      <td>20</td>\n",
              "      <td>2</td>\n",
              "      <td>no</td>\n",
              "      <td>yes</td>\n",
              "      <td>no</td>\n",
              "      <td>no</td>\n",
              "    </tr>\n",
              "  </tbody>\n",
              "</table>\n",
              "</div>"
            ],
            "text/plain": [
              "  status  age  smoke  cig  hyper fam ang fam myo fam stroke diabetes\n",
              "0     no   37      1   15      1      no      no         no       no\n",
              "1     no   45      3    0      1      no      no         no       no\n",
              "2    yes   60      3    0      1      no     yes         no       no\n",
              "3     no   57      3    0      1      no      no         no       no\n",
              "4    yes   65      1   20      2      no     yes         no       no"
            ]
          },
          "metadata": {},
          "execution_count": 113
        }
      ]
    },
    {
      "cell_type": "code",
      "metadata": {
        "colab": {
          "base_uri": "https://localhost:8080/"
        },
        "id": "fLJdJYIz2d8J",
        "outputId": "68ad1430-fb1f-4910-eab7-f8d2904cb390"
      },
      "source": [
        "df.isnull().sum()"
      ],
      "execution_count": null,
      "outputs": [
        {
          "output_type": "execute_result",
          "data": {
            "text/plain": [
              "status        0\n",
              "age           0\n",
              "smoke         0\n",
              "cig           0\n",
              "hyper         0\n",
              "fam ang       0\n",
              "fam myo       0\n",
              "fam stroke    0\n",
              "diabetes      0\n",
              "dtype: int64"
            ]
          },
          "metadata": {},
          "execution_count": 114
        }
      ]
    },
    {
      "cell_type": "code",
      "metadata": {
        "id": "0UAr-FtZ2pv7"
      },
      "source": [
        "def summarize_categoricals(df, show_levels=False):\n",
        "    \"\"\"\n",
        "        Display uniqueness in each column\n",
        "    \"\"\"\n",
        "    data = [[df[c].unique(), len(df[c].unique()), df[c].isnull().sum()] for c in df.columns]\n",
        "    df_temp = pd.DataFrame(data, index=df.columns,\n",
        "                           columns=['Levels', 'No. of Levels',\n",
        "                                    'No. of Missing Values'])\n",
        "    return df_temp.iloc[:, 0 if show_levels else 1:]\n",
        "\n",
        "\n",
        "def return_categoricals(df, threshold=5):\n",
        "    \"\"\"\n",
        "        Returns a list of columns that have less than or equal to\n",
        "        `threshold` number of unique categorical levels\n",
        "    \"\"\"\n",
        "    return list(filter(lambda c: c if len(df[c].unique()) <= threshold else None,\n",
        "                       df.columns))\n",
        "\n",
        "def to_categorical(columns, df):\n",
        "    \"\"\"\n",
        "        Converts the columns passed in `columns` to categorical datatype\n",
        "    \"\"\"\n",
        "    for col in columns:\n",
        "        df[col] = df[col].astype('category')\n",
        "    return df"
      ],
      "execution_count": null,
      "outputs": []
    },
    {
      "cell_type": "code",
      "metadata": {
        "colab": {
          "base_uri": "https://localhost:8080/",
          "height": 326
        },
        "id": "ZLBo0FQm2efx",
        "outputId": "1a0b5340-09f4-46df-c85e-7f51aaa4f00e"
      },
      "source": [
        "summarize_categoricals(df, show_levels=True)"
      ],
      "execution_count": null,
      "outputs": [
        {
          "output_type": "execute_result",
          "data": {
            "text/html": [
              "<div>\n",
              "<style scoped>\n",
              "    .dataframe tbody tr th:only-of-type {\n",
              "        vertical-align: middle;\n",
              "    }\n",
              "\n",
              "    .dataframe tbody tr th {\n",
              "        vertical-align: top;\n",
              "    }\n",
              "\n",
              "    .dataframe thead th {\n",
              "        text-align: right;\n",
              "    }\n",
              "</style>\n",
              "<table border=\"1\" class=\"dataframe\">\n",
              "  <thead>\n",
              "    <tr style=\"text-align: right;\">\n",
              "      <th></th>\n",
              "      <th>Levels</th>\n",
              "      <th>No. of Levels</th>\n",
              "      <th>No. of Missing Values</th>\n",
              "    </tr>\n",
              "  </thead>\n",
              "  <tbody>\n",
              "    <tr>\n",
              "      <th>status</th>\n",
              "      <td>[no, yes]</td>\n",
              "      <td>2</td>\n",
              "      <td>0</td>\n",
              "    </tr>\n",
              "    <tr>\n",
              "      <th>age</th>\n",
              "      <td>[37, 45, 60, 57, 65, 56, 42, 52, 61, 59, 49, 3...</td>\n",
              "      <td>39</td>\n",
              "      <td>0</td>\n",
              "    </tr>\n",
              "    <tr>\n",
              "      <th>smoke</th>\n",
              "      <td>[1, 3, 2]</td>\n",
              "      <td>3</td>\n",
              "      <td>0</td>\n",
              "    </tr>\n",
              "    <tr>\n",
              "      <th>cig</th>\n",
              "      <td>[15, 0, 20, 30, 12, 10, 4, 24, 40, 26, 25, 5, ...</td>\n",
              "      <td>17</td>\n",
              "      <td>0</td>\n",
              "    </tr>\n",
              "    <tr>\n",
              "      <th>hyper</th>\n",
              "      <td>[1, 2, 3]</td>\n",
              "      <td>3</td>\n",
              "      <td>0</td>\n",
              "    </tr>\n",
              "    <tr>\n",
              "      <th>fam ang</th>\n",
              "      <td>[no, yes]</td>\n",
              "      <td>2</td>\n",
              "      <td>0</td>\n",
              "    </tr>\n",
              "    <tr>\n",
              "      <th>fam myo</th>\n",
              "      <td>[no, yes]</td>\n",
              "      <td>2</td>\n",
              "      <td>0</td>\n",
              "    </tr>\n",
              "    <tr>\n",
              "      <th>fam stroke</th>\n",
              "      <td>[no, yes]</td>\n",
              "      <td>2</td>\n",
              "      <td>0</td>\n",
              "    </tr>\n",
              "    <tr>\n",
              "      <th>diabetes</th>\n",
              "      <td>[no, yes]</td>\n",
              "      <td>2</td>\n",
              "      <td>0</td>\n",
              "    </tr>\n",
              "  </tbody>\n",
              "</table>\n",
              "</div>"
            ],
            "text/plain": [
              "                                                       Levels  ...  No. of Missing Values\n",
              "status                                              [no, yes]  ...                      0\n",
              "age         [37, 45, 60, 57, 65, 56, 42, 52, 61, 59, 49, 3...  ...                      0\n",
              "smoke                                               [1, 3, 2]  ...                      0\n",
              "cig         [15, 0, 20, 30, 12, 10, 4, 24, 40, 26, 25, 5, ...  ...                      0\n",
              "hyper                                               [1, 2, 3]  ...                      0\n",
              "fam ang                                             [no, yes]  ...                      0\n",
              "fam myo                                             [no, yes]  ...                      0\n",
              "fam stroke                                          [no, yes]  ...                      0\n",
              "diabetes                                            [no, yes]  ...                      0\n",
              "\n",
              "[9 rows x 3 columns]"
            ]
          },
          "metadata": {},
          "execution_count": 116
        }
      ]
    },
    {
      "cell_type": "code",
      "metadata": {
        "colab": {
          "base_uri": "https://localhost:8080/"
        },
        "id": "51irlRGo2wdr",
        "outputId": "826c0e6a-1598-48c9-f067-bcc0ec482074"
      },
      "source": [
        "to_cast = return_categoricals(df, threshold=5)\n",
        "df = to_categorical(to_cast, df)\n",
        "\n",
        "df.info()"
      ],
      "execution_count": null,
      "outputs": [
        {
          "output_type": "stream",
          "name": "stdout",
          "text": [
            "<class 'pandas.core.frame.DataFrame'>\n",
            "RangeIndex: 200 entries, 0 to 199\n",
            "Data columns (total 9 columns):\n",
            " #   Column      Non-Null Count  Dtype   \n",
            "---  ------      --------------  -----   \n",
            " 0   status      200 non-null    category\n",
            " 1   age         200 non-null    int64   \n",
            " 2   smoke       200 non-null    category\n",
            " 3   cig         200 non-null    int64   \n",
            " 4   hyper       200 non-null    category\n",
            " 5   fam ang     200 non-null    category\n",
            " 6   fam myo     200 non-null    category\n",
            " 7   fam stroke  200 non-null    category\n",
            " 8   diabetes    200 non-null    category\n",
            "dtypes: category(7), int64(2)\n",
            "memory usage: 5.3 KB\n"
          ]
        }
      ]
    },
    {
      "cell_type": "code",
      "metadata": {
        "colab": {
          "base_uri": "https://localhost:8080/",
          "height": 110
        },
        "id": "K-BFS9ff2xSt",
        "outputId": "f2df5ca5-b3af-46b6-d9a7-fc09493a5b79"
      },
      "source": [
        "df.describe().T"
      ],
      "execution_count": null,
      "outputs": [
        {
          "output_type": "execute_result",
          "data": {
            "text/html": [
              "<div>\n",
              "<style scoped>\n",
              "    .dataframe tbody tr th:only-of-type {\n",
              "        vertical-align: middle;\n",
              "    }\n",
              "\n",
              "    .dataframe tbody tr th {\n",
              "        vertical-align: top;\n",
              "    }\n",
              "\n",
              "    .dataframe thead th {\n",
              "        text-align: right;\n",
              "    }\n",
              "</style>\n",
              "<table border=\"1\" class=\"dataframe\">\n",
              "  <thead>\n",
              "    <tr style=\"text-align: right;\">\n",
              "      <th></th>\n",
              "      <th>count</th>\n",
              "      <th>mean</th>\n",
              "      <th>std</th>\n",
              "      <th>min</th>\n",
              "      <th>25%</th>\n",
              "      <th>50%</th>\n",
              "      <th>75%</th>\n",
              "      <th>max</th>\n",
              "    </tr>\n",
              "  </thead>\n",
              "  <tbody>\n",
              "    <tr>\n",
              "      <th>age</th>\n",
              "      <td>200.0</td>\n",
              "      <td>52.445</td>\n",
              "      <td>9.400469</td>\n",
              "      <td>29.0</td>\n",
              "      <td>46.0</td>\n",
              "      <td>53.0</td>\n",
              "      <td>59.00</td>\n",
              "      <td>74.0</td>\n",
              "    </tr>\n",
              "    <tr>\n",
              "      <th>cig</th>\n",
              "      <td>200.0</td>\n",
              "      <td>8.205</td>\n",
              "      <td>11.661601</td>\n",
              "      <td>0.0</td>\n",
              "      <td>0.0</td>\n",
              "      <td>0.0</td>\n",
              "      <td>16.25</td>\n",
              "      <td>40.0</td>\n",
              "    </tr>\n",
              "  </tbody>\n",
              "</table>\n",
              "</div>"
            ],
            "text/plain": [
              "     count    mean        std   min   25%   50%    75%   max\n",
              "age  200.0  52.445   9.400469  29.0  46.0  53.0  59.00  74.0\n",
              "cig  200.0   8.205  11.661601   0.0   0.0   0.0  16.25  40.0"
            ]
          },
          "metadata": {},
          "execution_count": 118
        }
      ]
    },
    {
      "cell_type": "code",
      "metadata": {
        "colab": {
          "base_uri": "https://localhost:8080/"
        },
        "id": "56xpuWDC2z2p",
        "outputId": "69d4cf14-dc01-404d-f5bc-b22432435299"
      },
      "source": [
        "df.dtypes"
      ],
      "execution_count": null,
      "outputs": [
        {
          "output_type": "execute_result",
          "data": {
            "text/plain": [
              "status        category\n",
              "age              int64\n",
              "smoke         category\n",
              "cig              int64\n",
              "hyper         category\n",
              "fam ang       category\n",
              "fam myo       category\n",
              "fam stroke    category\n",
              "diabetes      category\n",
              "dtype: object"
            ]
          },
          "metadata": {},
          "execution_count": 119
        }
      ]
    },
    {
      "cell_type": "code",
      "metadata": {
        "colab": {
          "base_uri": "https://localhost:8080/"
        },
        "id": "5OPKN6KN23P1",
        "outputId": "efc75437-95f8-477a-eb8b-b5704e2ea833"
      },
      "source": [
        "#cek kolom apa saja yang merupakan data numeric\n",
        "#random forest hanya bisa mengolah data numeric\n",
        "num_of_numerical_cols = df._get_numeric_data().columns.shape[0]\n",
        "print(num_of_numerical_cols, 'numerical columns')\n",
        "name_of_numerical_cols = df._get_numeric_data().columns\n",
        "print(name_of_numerical_cols)"
      ],
      "execution_count": null,
      "outputs": [
        {
          "output_type": "stream",
          "name": "stdout",
          "text": [
            "2 numerical columns\n",
            "Index(['age', 'cig'], dtype='object')\n"
          ]
        }
      ]
    },
    {
      "cell_type": "code",
      "metadata": {
        "colab": {
          "base_uri": "https://localhost:8080/",
          "height": 417
        },
        "id": "rX3nDHxp3N9-",
        "outputId": "9b5f5c4b-c6c3-4acc-9528-f2d467756682"
      },
      "source": [
        "#one-hot encode untuk mengubah data kategorial agar menjadi numerik dengan menambah kolom label\n",
        "from sklearn.preprocessing import LabelEncoder\n",
        "label_encoder = LabelEncoder()\n",
        "df['status'] = label_encoder.fit_transform(df['status'])\n",
        "df['fam ang'] = label_encoder.fit_transform(df['fam ang'])\n",
        "df['fam myo'] = label_encoder.fit_transform(df['fam myo'])\n",
        "df['fam stroke'] = label_encoder.fit_transform(df['fam stroke'])\n",
        "df['diabetes'] = label_encoder.fit_transform(df['diabetes'])\n",
        "df"
      ],
      "execution_count": null,
      "outputs": [
        {
          "output_type": "execute_result",
          "data": {
            "text/html": [
              "<div>\n",
              "<style scoped>\n",
              "    .dataframe tbody tr th:only-of-type {\n",
              "        vertical-align: middle;\n",
              "    }\n",
              "\n",
              "    .dataframe tbody tr th {\n",
              "        vertical-align: top;\n",
              "    }\n",
              "\n",
              "    .dataframe thead th {\n",
              "        text-align: right;\n",
              "    }\n",
              "</style>\n",
              "<table border=\"1\" class=\"dataframe\">\n",
              "  <thead>\n",
              "    <tr style=\"text-align: right;\">\n",
              "      <th></th>\n",
              "      <th>status</th>\n",
              "      <th>age</th>\n",
              "      <th>smoke</th>\n",
              "      <th>cig</th>\n",
              "      <th>hyper</th>\n",
              "      <th>fam ang</th>\n",
              "      <th>fam myo</th>\n",
              "      <th>fam stroke</th>\n",
              "      <th>diabetes</th>\n",
              "    </tr>\n",
              "  </thead>\n",
              "  <tbody>\n",
              "    <tr>\n",
              "      <th>0</th>\n",
              "      <td>0</td>\n",
              "      <td>37</td>\n",
              "      <td>1</td>\n",
              "      <td>15</td>\n",
              "      <td>1</td>\n",
              "      <td>0</td>\n",
              "      <td>0</td>\n",
              "      <td>0</td>\n",
              "      <td>0</td>\n",
              "    </tr>\n",
              "    <tr>\n",
              "      <th>1</th>\n",
              "      <td>0</td>\n",
              "      <td>45</td>\n",
              "      <td>3</td>\n",
              "      <td>0</td>\n",
              "      <td>1</td>\n",
              "      <td>0</td>\n",
              "      <td>0</td>\n",
              "      <td>0</td>\n",
              "      <td>0</td>\n",
              "    </tr>\n",
              "    <tr>\n",
              "      <th>2</th>\n",
              "      <td>1</td>\n",
              "      <td>60</td>\n",
              "      <td>3</td>\n",
              "      <td>0</td>\n",
              "      <td>1</td>\n",
              "      <td>0</td>\n",
              "      <td>1</td>\n",
              "      <td>0</td>\n",
              "      <td>0</td>\n",
              "    </tr>\n",
              "    <tr>\n",
              "      <th>3</th>\n",
              "      <td>0</td>\n",
              "      <td>57</td>\n",
              "      <td>3</td>\n",
              "      <td>0</td>\n",
              "      <td>1</td>\n",
              "      <td>0</td>\n",
              "      <td>0</td>\n",
              "      <td>0</td>\n",
              "      <td>0</td>\n",
              "    </tr>\n",
              "    <tr>\n",
              "      <th>4</th>\n",
              "      <td>1</td>\n",
              "      <td>65</td>\n",
              "      <td>1</td>\n",
              "      <td>20</td>\n",
              "      <td>2</td>\n",
              "      <td>0</td>\n",
              "      <td>1</td>\n",
              "      <td>0</td>\n",
              "      <td>0</td>\n",
              "    </tr>\n",
              "    <tr>\n",
              "      <th>...</th>\n",
              "      <td>...</td>\n",
              "      <td>...</td>\n",
              "      <td>...</td>\n",
              "      <td>...</td>\n",
              "      <td>...</td>\n",
              "      <td>...</td>\n",
              "      <td>...</td>\n",
              "      <td>...</td>\n",
              "      <td>...</td>\n",
              "    </tr>\n",
              "    <tr>\n",
              "      <th>195</th>\n",
              "      <td>0</td>\n",
              "      <td>58</td>\n",
              "      <td>2</td>\n",
              "      <td>0</td>\n",
              "      <td>3</td>\n",
              "      <td>0</td>\n",
              "      <td>0</td>\n",
              "      <td>0</td>\n",
              "      <td>0</td>\n",
              "    </tr>\n",
              "    <tr>\n",
              "      <th>196</th>\n",
              "      <td>0</td>\n",
              "      <td>57</td>\n",
              "      <td>3</td>\n",
              "      <td>0</td>\n",
              "      <td>1</td>\n",
              "      <td>0</td>\n",
              "      <td>0</td>\n",
              "      <td>0</td>\n",
              "      <td>0</td>\n",
              "    </tr>\n",
              "    <tr>\n",
              "      <th>197</th>\n",
              "      <td>0</td>\n",
              "      <td>65</td>\n",
              "      <td>1</td>\n",
              "      <td>10</td>\n",
              "      <td>1</td>\n",
              "      <td>0</td>\n",
              "      <td>0</td>\n",
              "      <td>0</td>\n",
              "      <td>0</td>\n",
              "    </tr>\n",
              "    <tr>\n",
              "      <th>198</th>\n",
              "      <td>1</td>\n",
              "      <td>73</td>\n",
              "      <td>1</td>\n",
              "      <td>15</td>\n",
              "      <td>2</td>\n",
              "      <td>0</td>\n",
              "      <td>1</td>\n",
              "      <td>0</td>\n",
              "      <td>0</td>\n",
              "    </tr>\n",
              "    <tr>\n",
              "      <th>199</th>\n",
              "      <td>0</td>\n",
              "      <td>53</td>\n",
              "      <td>3</td>\n",
              "      <td>0</td>\n",
              "      <td>1</td>\n",
              "      <td>0</td>\n",
              "      <td>0</td>\n",
              "      <td>0</td>\n",
              "      <td>0</td>\n",
              "    </tr>\n",
              "  </tbody>\n",
              "</table>\n",
              "<p>200 rows × 9 columns</p>\n",
              "</div>"
            ],
            "text/plain": [
              "     status  age smoke  cig hyper  fam ang  fam myo  fam stroke  diabetes\n",
              "0         0   37     1   15     1        0        0           0         0\n",
              "1         0   45     3    0     1        0        0           0         0\n",
              "2         1   60     3    0     1        0        1           0         0\n",
              "3         0   57     3    0     1        0        0           0         0\n",
              "4         1   65     1   20     2        0        1           0         0\n",
              "..      ...  ...   ...  ...   ...      ...      ...         ...       ...\n",
              "195       0   58     2    0     3        0        0           0         0\n",
              "196       0   57     3    0     1        0        0           0         0\n",
              "197       0   65     1   10     1        0        0           0         0\n",
              "198       1   73     1   15     2        0        1           0         0\n",
              "199       0   53     3    0     1        0        0           0         0\n",
              "\n",
              "[200 rows x 9 columns]"
            ]
          },
          "metadata": {},
          "execution_count": 121
        }
      ]
    },
    {
      "cell_type": "code",
      "metadata": {
        "colab": {
          "base_uri": "https://localhost:8080/",
          "height": 585
        },
        "id": "77Da6AGt3SH3",
        "outputId": "cc580caf-87fd-4173-8e8b-91e6fe1880d2"
      },
      "source": [
        "fig, ax = plt.subplots(figsize=(10, 8))\n",
        "sns.heatmap(data=df.astype({'status': 'int64'}).corr(),\n",
        "            annot=True, cmap='coolwarm', cbar_kws={'aspect': 50},\n",
        "            square=True, ax=ax)\n",
        "plt.xticks(rotation=30, ha='right');\n",
        "plt.tight_layout()"
      ],
      "execution_count": null,
      "outputs": [
        {
          "output_type": "display_data",
          "data": {
            "image/png": "[encoded data removed]",
            "text/plain": [
              "<Figure size 720x576 with 2 Axes>"
            ]
          },
          "metadata": {
            "needs_background": "light"
          }
        }
      ]
    },
    {
      "cell_type": "code",
      "metadata": {
        "id": "EODfEqFb3VIt"
      },
      "source": [
        "def cramers_corrected_stat(contingency_table):\n",
        "    \"\"\"\n",
        "        Computes corrected Cramer's V statistic for categorial-categorial association\n",
        "    \"\"\"\n",
        "    \n",
        "    try:\n",
        "        chi2 = chi2_contingency(contingency_table)[0]\n",
        "    except ValueError:\n",
        "        return np.NaN\n",
        "    \n",
        "    n = contingency_table.sum().sum()\n",
        "    phi2 = chi2/n\n",
        "    \n",
        "    r, k = contingency_table.shape\n",
        "    r_corrected = r - (((r-1)**2)/(n-1))\n",
        "    k_corrected = k - (((k-1)**2)/(n-1))\n",
        "    phi2_corrected = max(0, phi2 - ((k-1)*(r-1))/(n-1))\n",
        "    \n",
        "    return (phi2_corrected / min( (k_corrected-1), (r_corrected-1)))**0.5"
      ],
      "execution_count": null,
      "outputs": []
    },
    {
      "cell_type": "code",
      "metadata": {
        "id": "TyRoFYHm3bMm"
      },
      "source": [
        "def categorical_corr_matrix(df):\n",
        "    \"\"\"\n",
        "        Computes corrected Cramer's V statistic between all the\n",
        "        categorical variables in the dataframe\n",
        "    \"\"\"\n",
        "    df = df.select_dtypes(include='category')\n",
        "    cols = df.columns\n",
        "    n = len(cols)\n",
        "    corr_matrix = pd.DataFrame(np.zeros(shape=(n, n)), index=cols, columns=cols)\n",
        "    \n",
        "    excluded_cols = list()\n",
        "    \n",
        "    for col1 in cols:\n",
        "        for col2 in cols:\n",
        "            if col1 == col2:\n",
        "                corr_matrix.loc[col1, col2] = 1\n",
        "                break\n",
        "            df_crosstab = pd.crosstab(df[col1], df[col2], dropna=False)\n",
        "            corr_matrix.loc[col1, col2] = cramers_corrected_stat(df_crosstab)\n",
        "                \n",
        "    # Flip and add to get full correlation matrix\n",
        "    corr_matrix += np.tril(corr_matrix, k=-1).T\n",
        "    return corr_matrix"
      ],
      "execution_count": null,
      "outputs": []
    },
    {
      "cell_type": "code",
      "metadata": {
        "colab": {
          "base_uri": "https://localhost:8080/",
          "height": 369
        },
        "id": "8YwoL3p23c8f",
        "outputId": "ba161121-89cf-4815-a087-71cedb96a62e"
      },
      "source": [
        "fig, ax = plt.subplots(figsize=(10, 5))\n",
        "sns.heatmap(categorical_corr_matrix(df), annot=True, cmap='coolwarm', \n",
        "            cbar_kws={'aspect': 50}, square=True, ax=ax)\n",
        "plt.xticks(rotation=30, ha='right');\n",
        "plt.tight_layout()"
      ],
      "execution_count": null,
      "outputs": [
        {
          "output_type": "display_data",
          "data": {
            "image/png": "[encoded data removed]",
            "text/plain": [
              "<Figure size 720x360 with 2 Axes>"
            ]
          },
          "metadata": {
            "needs_background": "light"
          }
        }
      ]
    },
    {
      "cell_type": "code",
      "metadata": {
        "id": "JGF0HPSL3hDG"
      },
      "source": [
        "def modified_countplot(**kargs):\n",
        "    \"\"\"\n",
        "        Assumes that columns to be plotted are in of pandas dtype='CategoricalDtype'\n",
        "    \"\"\"\n",
        "    facet_gen = kargs['facet_generator']    ## Facet generator over facet data\n",
        "    curr_facet, facet_data = None, None\n",
        "    \n",
        "    while True:\n",
        "        ## Keep yielding until non-empty dataframe is found\n",
        "        curr_facet = next(facet_gen)            ## Yielding facet genenrator\n",
        "        df_rows = curr_facet[1].shape[0]\n",
        "        \n",
        "        ## Skip the current facet if its corresponding dataframe empty\n",
        "        if df_rows:\n",
        "            facet_data = curr_facet[1]\n",
        "            break\n",
        "    \n",
        "    x_hue = (kargs.get('x'), kargs.get('hue'))\n",
        "    cols = [col for col in x_hue if col]\n",
        "    col_categories = [facet_data[col].dtype.categories if col else None for col in x_hue]\n",
        "    \n",
        "    palette = kargs['palette'] if 'palette' in kargs.keys() else 'Pastel2'\n",
        "    sns.countplot(x=cols[0], hue=x_hue[1], \n",
        "                  order=col_categories[0], hue_order=col_categories[1],\n",
        "                  data=facet_data.loc[:, cols], palette=palette)"
      ],
      "execution_count": null,
      "outputs": []
    },
    {
      "cell_type": "code",
      "metadata": {
        "colab": {
          "base_uri": "https://localhost:8080/"
        },
        "id": "UZFbIDN93kWg",
        "outputId": "97d4fc10-e3b0-46aa-9708-09edd57b8e39"
      },
      "source": [
        "list(df.select_dtypes(include='category'))"
      ],
      "execution_count": null,
      "outputs": [
        {
          "output_type": "execute_result",
          "data": {
            "text/plain": [
              "['smoke', 'hyper']"
            ]
          },
          "metadata": {},
          "execution_count": 127
        }
      ]
    },
    {
      "cell_type": "code",
      "metadata": {
        "id": "NqEqbYJU3moX"
      },
      "source": [
        "x = df.drop('status', axis = 1)\n",
        "y = df['status']\n",
        "\n",
        "categorical_columns = list(x.select_dtypes(include='category').columns)\n",
        "numeric_columns = list(x.select_dtypes(exclude='category').columns)"
      ],
      "execution_count": null,
      "outputs": []
    },
    {
      "cell_type": "code",
      "metadata": {
        "id": "8s-vr53P3ooR"
      },
      "source": [
        "from sklearn.model_selection import train_test_split\n",
        "\n",
        "data_splits = train_test_split(x, y, test_size=0.3, random_state=seed_val,\n",
        "                               shuffle=True, stratify=y)\n",
        "x_train, x_test, y_train, y_test = data_splits"
      ],
      "execution_count": null,
      "outputs": []
    },
    {
      "cell_type": "code",
      "metadata": {
        "colab": {
          "base_uri": "https://localhost:8080/"
        },
        "id": "zN7F02il3sw1",
        "outputId": "6ec1ef6b-2ff3-4269-9835-9ccacba55dc6"
      },
      "source": [
        "pd.Series(y_test).value_counts()"
      ],
      "execution_count": null,
      "outputs": [
        {
          "output_type": "execute_result",
          "data": {
            "text/plain": [
              "1    30\n",
              "0    30\n",
              "Name: status, dtype: int64"
            ]
          },
          "metadata": {},
          "execution_count": 130
        }
      ]
    },
    {
      "cell_type": "code",
      "metadata": {
        "colab": {
          "base_uri": "https://localhost:8080/",
          "height": 279
        },
        "id": "ac-a65c23x-6",
        "outputId": "e7cdb2c7-5ef7-4b4e-eb67-3552f1644bb1"
      },
      "source": [
        "sns.countplot(x=y_test);"
      ],
      "execution_count": null,
      "outputs": [
        {
          "output_type": "display_data",
          "data": {
            "image/png": "[encoded data removed]",
            "text/plain": [
              "<Figure size 432x288 with 1 Axes>"
            ]
          },
          "metadata": {
            "needs_background": "light"
          }
        }
      ]
    },
    {
      "cell_type": "code",
      "metadata": {
        "id": "iHhX_2pd30cj"
      },
      "source": [
        "from sklearn.compose import ColumnTransformer\n",
        "from sklearn.preprocessing import OneHotEncoder, StandardScaler, LabelEncoder\n",
        "from sklearn.impute import SimpleImputer\n",
        "from sklearn.pipeline import Pipeline \n",
        "\n",
        "\n",
        "numeric_transformer = Pipeline(steps=[\n",
        "    ('scaler', StandardScaler())])\n",
        "\n",
        "categorical_transformer = Pipeline(steps=[\n",
        "    ('onehot', OneHotEncoder(drop='first', dtype=np.int))])\n",
        "\n",
        "## Column Transformer\n",
        "preprocessor = ColumnTransformer(\n",
        "    transformers=[\n",
        "        ('num', numeric_transformer, numeric_columns),\n",
        "        ('cat', categorical_transformer, categorical_columns)],\n",
        "    remainder='passthrough')\n",
        "\n",
        "## Applying Column Transformer\n",
        "x_train = preprocessor.fit_transform(x_train)\n",
        "x_test = preprocessor.transform(x_test)\n",
        "\n",
        "\n",
        "## Label encoding\n",
        "y_trans = LabelEncoder()\n",
        "y_train = y_trans.fit_transform(y_train)\n",
        "y_test = y_trans.transform(y_test)\n",
        "\n",
        "\n",
        "## Save feature names after one-hot encoding for feature importances plots\n",
        "feature_names = list(preprocessor.named_transformers_['cat'].named_steps['onehot'] \\\n",
        "                            .get_feature_names(input_features=categorical_columns))\n",
        "feature_names = numeric_columns + feature_names"
      ],
      "execution_count": null,
      "outputs": []
    },
    {
      "cell_type": "code",
      "metadata": {
        "id": "R44hnv-z32OY"
      },
      "source": [
        "import timeit\n",
        "import pickle\n",
        "import sys\n",
        "from sklearn.metrics import confusion_matrix, classification_report, roc_auc_score, \\\n",
        "                            precision_recall_curve, roc_curve, accuracy_score\n",
        "from sklearn.exceptions import NotFittedError"
      ],
      "execution_count": null,
      "outputs": []
    },
    {
      "cell_type": "code",
      "metadata": {
        "id": "mZfJt4Us33z0"
      },
      "source": [
        "def confusion_plot(matrix, labels=None):\n",
        "    \"\"\" Display binary confusion matrix as a Seaborn heatmap \"\"\"\n",
        "    \n",
        "    labels = labels if labels else ['Negative (0)', 'Positive (1)']\n",
        "    \n",
        "    fig, ax = plt.subplots(nrows=1, ncols=1)\n",
        "    sns.heatmap(data=matrix, cmap='Blues', annot=True, fmt='d',\n",
        "                xticklabels=labels, yticklabels=labels, ax=ax)\n",
        "    ax.set_xlabel('PREDICTED')\n",
        "    ax.set_ylabel('ACTUAL')\n",
        "    ax.set_title('Confusion Matrix')\n",
        "    plt.close()\n",
        "    \n",
        "    return fig"
      ],
      "execution_count": null,
      "outputs": []
    },
    {
      "cell_type": "code",
      "metadata": {
        "id": "zyiRbfA235dA"
      },
      "source": [
        "def roc_plot(y_true, y_probs, label, compare=False, ax=None):\n",
        "    \"\"\" Plot Receiver Operating Characteristic (ROC) curve \n",
        "        Set `compare=True` to use this function to compare classifiers. \"\"\"\n",
        "    \n",
        "    fpr, tpr, thresh = roc_curve(y_true, y_probs, drop_intermediate=False)\n",
        "    auc = round(roc_auc_score(y_true, y_probs), 2)\n",
        "    \n",
        "    fig, axis = (None, ax) if ax else plt.subplots(nrows=1, ncols=1)\n",
        "    label = ' '.join([label, f'({auc})']) if compare else None\n",
        "    sns.lineplot(x=fpr, y=tpr, ax=axis,\n",
        "                 estimator=None, label=label)\n",
        "    \n",
        "    if compare:\n",
        "        axis.legend(title='Classifier (AUC)', loc='lower right')\n",
        "    else:\n",
        "        axis.text(0.72, 0.05, f'AUC = { auc }', fontsize=12,\n",
        "                  bbox=dict(facecolor='green', alpha=0.4, pad=5))\n",
        "            \n",
        "        # Plot No-Info classifier\n",
        "        axis.fill_between(fpr, fpr, tpr, alpha=0.3, edgecolor='g',\n",
        "                          linestyle='--', linewidth=2)\n",
        "    axis.set_xlim(0, 1)\n",
        "    axis.set_ylim(0, 1)\n",
        "    axis.set_title('ROC Curve')\n",
        "    axis.set_xlabel('False Positive Rate [FPR]\\n(1 - Specificity)')\n",
        "    axis.set_ylabel('True Positive Rate [TPR]\\n(Sensitivity or Recall)')\n",
        "    \n",
        "    plt.close()\n",
        "    \n",
        "    return axis if ax else fig"
      ],
      "execution_count": null,
      "outputs": []
    },
    {
      "cell_type": "code",
      "metadata": {
        "id": "4r7PNJSC37cq"
      },
      "source": [
        "def precision_recall_plot(y_true, y_probs, label, compare=False, ax=None):\n",
        "    \"\"\" Plot Precision-Recall curve.\n",
        "        Set `compare=True` to use this function to compare classifiers. \"\"\"\n",
        "    \n",
        "    p, r, thresh = precision_recall_curve(y_true, y_probs)\n",
        "    p, r, thresh = list(p), list(r), list(thresh)\n",
        "    p.pop()\n",
        "    r.pop()\n",
        "    \n",
        "    fig, axis = (None, ax) if ax else plt.subplots(nrows=1, ncols=1)\n",
        "    \n",
        "    if compare:\n",
        "        sns.lineplot(r, p, estimator=None,\n",
        "                     ax=axis, label=label)\n",
        "        axis.set_xlabel('Recall')\n",
        "        axis.set_ylabel('Precision')\n",
        "        axis.legend(loc='lower left')\n",
        "    else:\n",
        "        sns.lineplot(thresh, p, estimator=None,\n",
        "                     label='Precision', ax=axis)\n",
        "        axis.set_xlabel('Threshold')\n",
        "        axis.set_ylabel('Precision')\n",
        "        axis.legend(loc='lower left')\n",
        "\n",
        "        axis_twin = axis.twinx()\n",
        "        sns.lineplot(thresh, r, estimator=None,\n",
        "                     color='limegreen', label='Recall', ax=axis_twin)\n",
        "        axis_twin.set_ylabel('Recall')\n",
        "        axis_twin.set_ylim(0, 1)\n",
        "        axis_twin.legend(bbox_to_anchor=(0.24, 0.18))\n",
        "        \n",
        "    axis.set_xlim(0, 1)\n",
        "    axis.set_ylim(0, 1)\n",
        "    axis.set_title('Precision Vs Recall')\n",
        "    \n",
        "    plt.close()\n",
        "    \n",
        "    return axis if ax else fig"
      ],
      "execution_count": null,
      "outputs": []
    },
    {
      "cell_type": "code",
      "metadata": {
        "id": "pPOP2B5x39LU"
      },
      "source": [
        "def feature_importance_plot(importances, feature_labels, ax=None):\n",
        "    fig, axis = (None, ax) if ax else plt.subplots(nrows=1, ncols=1, figsize=(5, 10))\n",
        "    sns.barplot(x=importances, y=feature_labels, ax=axis)\n",
        "    axis.set_title('Feature Importance Measures')\n",
        "    \n",
        "    plt.close()\n",
        "    \n",
        "    return axis if ax else fig"
      ],
      "execution_count": null,
      "outputs": []
    },
    {
      "cell_type": "code",
      "metadata": {
        "id": "6WO4zGzh3-t9"
      },
      "source": [
        "def train_clf(clf, x_train, y_train, sample_weight=None, refit=False):\n",
        "    train_time = 0\n",
        "    \n",
        "    try:\n",
        "        if refit:\n",
        "            raise NotFittedError\n",
        "        y_pred_train = clf.predict(x_train)\n",
        "        \n",
        "        # For neural nets\n",
        "        y_pred_train = np.where(y_pred_train.flatten() > 0.5, 1, 0)\n",
        "        \n",
        "    except NotFittedError:\n",
        "        start = timeit.default_timer()\n",
        "        \n",
        "        if sample_weight is not None:\n",
        "            clf.fit(x_train, y_train, sample_weight=sample_weight)\n",
        "        else:\n",
        "            clf.fit(x_train, y_train)\n",
        "        \n",
        "        end = timeit.default_timer()\n",
        "        train_time = end - start\n",
        "        \n",
        "        y_pred_train = clf.predict(x_train)\n",
        "    \n",
        "    train_acc = accuracy_score(y_train, y_pred_train)\n",
        "    return clf, y_pred_train, train_acc, train_time"
      ],
      "execution_count": null,
      "outputs": []
    },
    {
      "cell_type": "code",
      "metadata": {
        "id": "kSOHiov64AVG"
      },
      "source": [
        "def model_memory_size(clf):\n",
        "    return sys.getsizeof(pickle.dumps(clf))"
      ],
      "execution_count": null,
      "outputs": []
    },
    {
      "cell_type": "code",
      "metadata": {
        "id": "tYoQIUaX4B-D"
      },
      "source": [
        "def report(clf, x_train, y_train, x_test, y_test, display_scores=[],\n",
        "           sample_weight=None, refit=False, importance_plot=False,\n",
        "           confusion_labels=None, feature_labels=None, neural_net=False,\n",
        "           verbose=True):\n",
        "    \"\"\" Trains the passed classifier if not already trained and reports\n",
        "        various metrics of the trained classifier \"\"\"\n",
        "    \n",
        "    dump = dict()\n",
        "    \n",
        "    ## Train if not already trained\n",
        "    clf, train_predictions, \\\n",
        "    train_acc, train_time = train_clf(clf, x_train, y_train,\n",
        "                                      sample_weight=sample_weight,\n",
        "                                      refit=refit)\n",
        "    ## Testing\n",
        "    start = timeit.default_timer()\n",
        "    test_predictions = clf.predict(x_test)\n",
        "    end = timeit.default_timer()\n",
        "    test_time = end - start\n",
        "\n",
        "    if neural_net:\n",
        "        y_probs = np.copy(test_predictions)\n",
        "        test_predictions = np.where(test_predictions.flatten() > 0.5, 1, 0)\n",
        "    else:\n",
        "        y_probs = clf.predict_proba(x_test)[:, 1]\n",
        "    \n",
        "    test_acc = accuracy_score(y_test, test_predictions)\n",
        "    roc_auc = roc_auc_score(y_test, y_probs)\n",
        "        \n",
        "    ## Additional scores\n",
        "    scores_dict = dict()\n",
        "    for func in display_scores:\n",
        "        scores_dict[func.__name__] = [func(y_train, train_predictions),\n",
        "                                      func(y_test, test_predictions)]\n",
        "        \n",
        "    ## Model Memory\n",
        "    model_mem = None\n",
        "    if not neural_net:\n",
        "        model_mem = round(model_memory_size(clf) / 1024, 2)\n",
        "\n",
        "    print(clf)\n",
        "    print(\"\\n=============================> TRAIN-TEST DETAILS <======================================\")\n",
        "    \n",
        "    ## Metrics\n",
        "    print(f\"Train Size: {x_train.shape[0]} samples\")\n",
        "    print(f\" Test Size: {x_test.shape[0]} samples\")\n",
        "    print(\"---------------------------------------------\")\n",
        "    print(f\"Training Time: {round(train_time, 3)} seconds\")\n",
        "    print(f\" Testing Time: {round(test_time, 3)} seconds\")\n",
        "    print(\"---------------------------------------------\")\n",
        "    print(\"Train Accuracy: \", train_acc)\n",
        "    print(\" Test Accuracy: \", test_acc)\n",
        "    print(\"---------------------------------------------\")\n",
        "    \n",
        "    if display_scores:\n",
        "        for k, v in scores_dict.items():\n",
        "            score_name = ' '.join(map(lambda x: x.title(), k.split('_')))\n",
        "            print(f'Train {score_name}: ', v[0])\n",
        "            print(f' Test {score_name}: ', v[1])\n",
        "            print()\n",
        "        print(\"---------------------------------------------\")\n",
        "    \n",
        "    print(\" Area Under ROC (test): \", roc_auc)\n",
        "    print(\"---------------------------------------------\")\n",
        "    print(f\"Model Memory Size: {model_mem} kB\")\n",
        "    print(\"\\n=============================> CLASSIFICATION REPORT <===================================\")\n",
        "    \n",
        "    ## Classification Report\n",
        "    clf_rep = classification_report(y_test, test_predictions, output_dict=True)\n",
        "    \n",
        "    print(classification_report(y_test, test_predictions,\n",
        "                                target_names=confusion_labels))\n",
        "    \n",
        "    if verbose:\n",
        "        print(\"\\n================================> CONFUSION MATRIX <=====================================\")\n",
        "    \n",
        "        ## Confusion Matrix HeatMap\n",
        "        display(confusion_plot(confusion_matrix(y_test, test_predictions),\n",
        "                               labels=confusion_labels))\n",
        "        print(\"\\n=======================================> PLOTS <=========================================\")\n",
        "\n",
        "\n",
        "        ## Variable importance plot\n",
        "        fig, axes = plt.subplots(nrows=2, ncols=2, figsize=(14, 10))\n",
        "        roc_axes = axes[0, 0]\n",
        "        pr_axes = axes[0, 1]\n",
        "        importances = None\n",
        "\n",
        "        if importance_plot:\n",
        "            if not feature_labels:\n",
        "                raise RuntimeError(\"'feature_labels' argument not passed \"\n",
        "                                   \"when 'importance_plot' is True\")\n",
        "\n",
        "            try:\n",
        "              importances = pd.Series(clf.feature_importances_,\n",
        "                                        index=feature_labels) \\\n",
        "                                .sort_values(ascending=False)\n",
        "            except AttributeError:\n",
        "                try:\n",
        "                    importances = pd.Series(clf.coef_.ravel(),\n",
        "                                            index=feature_labels) \\\n",
        "                                    .sort_values(ascending=False)\n",
        "                except AttributeError:\n",
        "                    pass\n",
        "\n",
        "            if importances is not None:\n",
        "                # Modifying grid\n",
        "                grid_spec = axes[0, 0].get_gridspec()\n",
        "                for ax in axes[:, 0]:\n",
        "                    ax.remove()   # remove first column axes\n",
        "                large_axs = fig.add_subplot(grid_spec[0:, 0])\n",
        "\n",
        "                 # Plot importance curve\n",
        "                feature_importance_plot(importances=importances.values,\n",
        "                                        feature_labels=importances.index,\n",
        "                                        ax=large_axs)\n",
        "                large_axs.axvline(x=0)\n",
        "\n",
        "                # Axis for ROC and PR curve\n",
        "                roc_axes = axes[0, 1]\n",
        "                pr_axes = axes[1, 1]\n",
        "            else:\n",
        "                # remove second row axes\n",
        "                for ax in axes[1, :]:\n",
        "                    ax.remove()\n",
        "        else:\n",
        "            # remove second row axes\n",
        "            for ax in axes[1, :]:\n",
        "                ax.remove()\n",
        "        \n",
        "         ## ROC and Precision-Recall curves\n",
        "        clf_name = clf.__class__.__name__\n",
        "        roc_plot(y_test, y_probs, clf_name, ax=roc_axes)\n",
        "        precision_recall_plot(y_test, y_probs, clf_name, ax=pr_axes)\n",
        "\n",
        "        fig.subplots_adjust(wspace=5)\n",
        "        fig.tight_layout()\n",
        "        display(fig)\n",
        "    \n",
        "        ## Dump to report_dict\n",
        "        dump = dict(clf=clf, accuracy=[train_acc, test_acc], **scores_dict, \n",
        "                train_time=train_time, train_predictions=train_predictions, \n",
        "                test_time=test_time, test_predictions=test_predictions, \n",
        "                test_probs=y_probs, report=clf_rep, roc_auc=roc_auc, model_memory=model_mem)\n",
        "        return clf, dump"
      ],
      "execution_count": null,
      "outputs": []
    },
    {
      "cell_type": "code",
      "metadata": {
        "id": "frAX0LXo4EbE"
      },
      "source": [
        "def compare_models(y_test=None, clf_reports=[], labels=[], score='accuracy'):\n",
        "    \"\"\" Compare evaluation metrics for the True Positive class [1] of \n",
        "        binary classifiers passed in the argument and plot ROC and PR curves.\n",
        "        \n",
        "        Arguments:\n",
        "        ---------\n",
        "        y_test: to plot ROC and Precision-Recall curves\n",
        "         score: is the name corresponding to the sklearn metrics\n",
        "        \n",
        "        Returns:\n",
        "        -------\n",
        "        compare_table: pandas DataFrame containing evaluated metrics\n",
        "                  fig: `matplotlib` figure object with ROC and PR curves \"\"\"\n",
        "\n",
        "    \n",
        "    ## Classifier Labels\n",
        "    default_names = [rep['clf'].__class__.__name__ for rep in clf_reports]\n",
        "    clf_names =  labels if len(labels) == len(clf_reports) else default_names\n",
        "\n",
        "    ## Compare Table\n",
        "    table = dict()\n",
        "    index = ['Train ' + score, 'Test ' + score, 'Overfitting', 'Accuracy', 'ROC Area',\n",
        "             'Precision', 'Recall', 'F1-score', 'Support']\n",
        "    for i in range(len(clf_reports)):\n",
        "        scores = [round(i, 3) for i in clf_reports[i][score]]\n",
        "        \n",
        "        roc_auc = clf_reports[i]['roc_auc']\n",
        "        test_acc = clf_reports[i]['accuracy'][1]\n",
        "        \n",
        "        # Get metrics of True Positive class from sklearn classification_report\n",
        "        true_positive_metrics = list(clf_reports[i]['report'][\"1\"].values())\n",
        "        \n",
        "        table[clf_names[i]] = scores + [scores[1] < scores[0], test_acc, roc_auc] + \\\n",
        "                              true_positive_metrics\n",
        "    \n",
        "    table = pd.DataFrame(data=table, index=index)\n",
        "    \n",
        "    \n",
        "    ## Compare Plots\n",
        "    fig, axes = plt.subplots(nrows=1, ncols=2, figsize=(15, 5))\n",
        "\n",
        "    # ROC and Precision-Recall\n",
        "    for i in range(len(clf_reports)):\n",
        "        clf_probs = clf_reports[i]['test_probs']\n",
        "        roc_plot(y_test, clf_probs, label=clf_names[i],\n",
        "                 compare=True, ax=axes[0])\n",
        "        precision_recall_plot(y_test, clf_probs, label=clf_names[i],\n",
        "                              compare=True, ax=axes[1])\n",
        "    # Plot No-Info classifier\n",
        "    axes[0].plot([0,1], [0,1], linestyle='--', color='green')\n",
        "        \n",
        "    fig.tight_layout()\n",
        "    plt.close()\n",
        "    \n",
        "    return table.T, fig"
      ],
      "execution_count": null,
      "outputs": []
    },
    {
      "cell_type": "code",
      "metadata": {
        "id": "VRdRYG5D4Gk0"
      },
      "source": [
        "from sklearn import metrics\n",
        "primary_eval_metric = metrics.f1_score\n",
        "\n",
        "confusion_lbs = ['No', 'Yes']"
      ],
      "execution_count": null,
      "outputs": []
    },
    {
      "cell_type": "code",
      "metadata": {
        "colab": {
          "base_uri": "https://localhost:8080/",
          "height": 1000
        },
        "id": "ayZFJvgf4QE7",
        "outputId": "ae84aaaa-9f7f-4a0e-e819-2be2b5718b8c"
      },
      "source": [
        "from sklearn.ensemble import RandomForestClassifier\n",
        "\n",
        "random_forest = RandomForestClassifier(n_estimators=100, max_features='sqrt', max_depth=5)\n",
        "\n",
        "random_forest, random_forest_report = report(random_forest, x_train, y_train,\n",
        "                                             x_test, y_test,\n",
        "                                             display_scores=[primary_eval_metric],\n",
        "                                             importance_plot=True,\n",
        "                                             feature_labels=feature_names,\n",
        "                                             confusion_labels=confusion_lbs)"
      ],
      "execution_count": null,
      "outputs": [
        {
          "output_type": "stream",
          "name": "stdout",
          "text": [
            "RandomForestClassifier(bootstrap=True, ccp_alpha=0.0, class_weight=None,\n",
            "                       criterion='gini', max_depth=5, max_features='sqrt',\n",
            "                       max_leaf_nodes=None, max_samples=None,\n",
            "                       min_impurity_decrease=0.0, min_impurity_split=None,\n",
            "                       min_samples_leaf=1, min_samples_split=2,\n",
            "                       min_weight_fraction_leaf=0.0, n_estimators=100,\n",
            "                       n_jobs=None, oob_score=False, random_state=None,\n",
            "                       verbose=0, warm_start=False)\n",
            "\n",
            "=============================> TRAIN-TEST DETAILS <======================================\n",
            "Train Size: 140 samples\n",
            " Test Size: 60 samples\n",
            "---------------------------------------------\n",
            "Training Time: 0.129 seconds\n",
            " Testing Time: 0.014 seconds\n",
            "---------------------------------------------\n",
            "Train Accuracy:  0.9357142857142857\n",
            " Test Accuracy:  0.8166666666666667\n",
            "---------------------------------------------\n",
            "Train F1 Score:  0.9323308270676691\n",
            " Test F1 Score:  0.8135593220338982\n",
            "\n",
            "---------------------------------------------\n",
            " Area Under ROC (test):  0.9127777777777777\n",
            "---------------------------------------------\n",
            "Model Memory Size: 270.36 kB\n",
            "\n",
            "=============================> CLASSIFICATION REPORT <===================================\n",
            "              precision    recall  f1-score   support\n",
            "\n",
            "          No       0.81      0.83      0.82        30\n",
            "         Yes       0.83      0.80      0.81        30\n",
            "\n",
            "    accuracy                           0.82        60\n",
            "   macro avg       0.82      0.82      0.82        60\n",
            "weighted avg       0.82      0.82      0.82        60\n",
            "\n",
            "\n",
            "================================> CONFUSION MATRIX <=====================================\n"
          ]
        },
        {
          "output_type": "display_data",
          "data": {
            "image/png": "[encoded data removed]",
            "text/plain": [
              "<Figure size 432x288 with 2 Axes>"
            ]
          },
          "metadata": {}
        },
        {
          "output_type": "stream",
          "name": "stdout",
          "text": [
            "\n",
            "=======================================> PLOTS <=========================================\n"
          ]
        },
        {
          "output_type": "stream",
          "name": "stderr",
          "text": [
            "/usr/local/lib/python3.7/dist-packages/seaborn/_decorators.py:43: FutureWarning: Pass the following variables as keyword args: x, y. From version 0.12, the only valid positional argument will be `data`, and passing other arguments without an explicit keyword will result in an error or misinterpretation.\n",
            "  FutureWarning\n",
            "/usr/local/lib/python3.7/dist-packages/seaborn/_decorators.py:43: FutureWarning: Pass the following variables as keyword args: x, y. From version 0.12, the only valid positional argument will be `data`, and passing other arguments without an explicit keyword will result in an error or misinterpretation.\n",
            "  FutureWarning\n"
          ]
        },
        {
          "output_type": "display_data",
          "data": {
            "image/png": "[encoded data removed]",
            "text/plain": [
              "<Figure size 1008x720 with 4 Axes>"
            ]
          },
          "metadata": {}
        }
      ]
    },
    {
      "cell_type": "code",
      "metadata": {
        "id": "AiN6bx9a4CIf"
      },
      "source": [
        ""
      ],
      "execution_count": null,
      "outputs": []
    }
  ]
}